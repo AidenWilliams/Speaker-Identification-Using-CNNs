{
 "cells": [
  {
   "cell_type": "markdown",
   "metadata": {},
   "source": [
    "# K-Fold Valdation and Box-Whisker Plot Evaluation\n",
    "\n",
    "In this notebook, I will use the K-Fold validation technique to evaluate the performance of our models. The 2 models trained and evaluated here have been fine tuned already. The purpose of this notebook is to verify that the hyperparameters chosen from ```Simple_Model_Trainer.ipynb``` are correct. Lastly, I will also use the box-whisker plot to visualize the performance of these models."
   ]
  },
  {
   "cell_type": "code",
   "execution_count": 1,
   "metadata": {},
   "outputs": [],
   "source": [
    "from sklearn.preprocessing import LabelBinarizer\n",
    "from sklearn.model_selection import train_test_split\n",
    "from ImageToArrayPreprocessor import ImageToArrayPreprocessor\n",
    "from SimplePreprocessor import SimplePreprocessor\n",
    "from DataLoader import DataLoader\n",
    "from ShallowNet import ShallowNet\n",
    "from NovelCNN import NovelCNN\n",
    "from tensorflow.keras.optimizers import Adam\n",
    "from imutils import paths\n",
    "import matplotlib.pyplot as plt\n",
    "import numpy as np\n",
    "import json\n",
    "from sklearn.metrics import accuracy_score, f1_score, precision_score, recall_score\n",
    "import os"
   ]
  },
  {
   "cell_type": "markdown",
   "metadata": {},
   "source": [
    "Most of the code is in this cell. The same classes (SimpleProcessor, DataLoader, ImageToArrayPreprocessor, and LabelBinarizer) are used here. This time the entire dataset is loaded into the X and y variables. This is so that each fold can be trained, validated, and tested on different datasplits each time. The code also depends on whether the results.json file exists or not. Training the Novel CNN for 2000 epochs each fold took time, so I did not want to repeat the process.\n",
    "\n",
    "The rest of the code implements K-Fold validation. With this technique each model is trained, validated and tested K times and each time this is done on different data splits. As soon as the model is trained, 4 metrics are calculated and stored in the results.json file. These metrics are: the accuracy, the precision, the recall, and the F1 score."
   ]
  },
  {
   "cell_type": "code",
   "execution_count": 2,
   "metadata": {},
   "outputs": [],
   "source": [
    "%%capture\n",
    "# Run the validation if results.json file is not present\n",
    "if not os.path.exists(\"results.json\"):\n",
    "    # Data loading\n",
    "    imagePaths = list(paths.list_images(\"../Part 1/image_dataset/corpus/\"))\n",
    "    sp = SimplePreprocessor(32, 32)\n",
    "    iap = ImageToArrayPreprocessor(dataFormat=\"channels_last\")\n",
    "    sdl = DataLoader(preprocessors=[sp, iap])\n",
    "    # Load all the data in X and y\n",
    "    X, y = sdl.load(imagePaths)\n",
    "    lb = LabelBinarizer()\n",
    "    y = lb.fit_transform(y)\n",
    "\n",
    "    # do k fold validation on a shallownet and novel cnn\n",
    "    # store the results in a dictionary\n",
    "    results = {\"shallow\": [], \"novel\": []}\n",
    "\n",
    "    # k-fold validation\n",
    "    for k in range(10):\n",
    "        # phase between shallow and novel cnn\n",
    "        for phase in (\"shallow\", \"novel\"):\n",
    "            # split the data into training and testing sets\n",
    "            X_train, X_test, y_train, y_test = train_test_split(X, y, test_size=0.2, random_state=k)\n",
    "            X_train, X_val, y_train, y_val = train_test_split(X_train, y_train, test_size=0.2, random_state=k)\n",
    "\n",
    "            # initialize the optimizer and model\n",
    "            if phase == \"shallow\":\n",
    "                opt = Adam()\n",
    "                model = ShallowNet.build(width=32, height=32, depth=3, classes=len(lb.classes_))\n",
    "                n_epochs = 100\n",
    "            else:\n",
    "                opt = Adam()\n",
    "                model = NovelCNN.build(width=32, height=32, depth=3, classes=len(lb.classes_))\n",
    "                n_epochs = 2000\n",
    "\n",
    "            model.compile(loss=\"categorical_crossentropy\", optimizer=opt)\n",
    "\n",
    "            # train the network\n",
    "            model.fit(X_train, y_train, validation_data=(X_val, y_val), batch_size=512, epochs=n_epochs)\n",
    "\n",
    "            # evaluate the network\n",
    "            predictions = model.predict(X_test, batch_size=32)\n",
    "            # store the results\n",
    "            results[phase].append(  {\n",
    "                                        \"accuracy_score\": accuracy_score(np.argmax(y_test, axis=1), np.argmax(predictions, axis=1)),\n",
    "                                        \"f1_score\": f1_score(np.argmax(y_test, axis=1), np.argmax(predictions, axis=1), average='weighted'), \n",
    "                                        \"precision\": precision_score(np.argmax(y_test, axis=1), np.argmax(predictions, axis=1), average='weighted'), \n",
    "                                        \"recall\": recall_score(np.argmax(y_test, axis=1), np.argmax(predictions, axis=1), average='weighted') \n",
    "                                    })\n",
    "    # save the results to a json file\n",
    "    with open(\"results.json\", \"w\") as f:\n",
    "        json.dump(results, f)\n",
    "\n",
    "# else load the results from the json file\n",
    "else:\n",
    "    with open(\"results.json\", \"r\") as f:\n",
    "        results = json.load(f)"
   ]
  },
  {
   "cell_type": "markdown",
   "metadata": {},
   "source": [
    "Now that the results are in hand, the box-whisker plot is created. This plot shows the distribution of the metrics for each model and plot is used to determine if the hyperparameters are optimal."
   ]
  },
  {
   "cell_type": "code",
   "execution_count": 3,
   "metadata": {},
   "outputs": [
    {
     "data": {
      "image/png": "[encoded data removed]",
      "text/plain": [
       "<Figure size 432x288 with 1 Axes>"
      ]
     },
     "metadata": {
      "needs_background": "light"
     },
     "output_type": "display_data"
    },
    {
     "data": {
      "image/png": "[encoded data removed]",
      "text/plain": [
       "<Figure size 432x288 with 1 Axes>"
      ]
     },
     "metadata": {
      "needs_background": "light"
     },
     "output_type": "display_data"
    }
   ],
   "source": [
    "# for each model, plot the accuracy, f1, precision and recall\n",
    "for phase in (\"shallow\", \"novel\"):\n",
    "    accuracies = [x[\"accuracy_score\"] for x in results[phase]]\n",
    "    f1s = [x[\"f1_score\"] for x in results[phase]]\n",
    "    precisions = [x[\"precision\"] for x in results[phase]]\n",
    "    recalls = [x[\"recall\"] for x in results[phase]]\n",
    "    plots = (accuracies, f1s, precisions, recalls)\n",
    "    labels = (\"Accuracy\", \"F1 Score\", \"Precision\", \"Recall\")\n",
    "    \n",
    "    # plot plots and their labels as a boxplot\n",
    "    plt.figure()\n",
    "    plt.boxplot(plots)\n",
    "    plt.xticks([1, 2, 3, 4], labels)\n",
    "    plt.yticks(np.arange(0.6, 1.1, 0.1))\n",
    "    plt.title(\"{} Plots\".format(phase.title()))\n",
    "    plt.savefig(\"{}_Box_and_Whisker.png\".format(phase))\n",
    "    plt.show()"
   ]
  }
 ],
 "metadata": {
  "interpreter": {
   "hash": "267e63756a7a057fc675d1c2a8b0cdb7677e3f425fd2f6b61040442354b57c6a"
  },
  "kernelspec": {
   "display_name": "Python 3.8.3 64-bit ('keras': conda)",
   "language": "python",
   "name": "python3"
  },
  "language_info": {
   "codemirror_mode": {
    "name": "ipython",
    "version": 3
   },
   "file_extension": ".py",
   "mimetype": "text/x-python",
   "name": "python",
   "nbconvert_exporter": "python",
   "pygments_lexer": "ipython3",
   "version": "3.8.3"
  },
  "orig_nbformat": 4
 },
 "nbformat": 4,
 "nbformat_minor": 2
}
